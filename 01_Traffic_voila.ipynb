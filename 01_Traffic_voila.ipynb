{
 "cells": [
  {
   "cell_type": "markdown",
   "metadata": {},
   "source": [
    "## 설치법: \n",
    "\n",
    "터미널에서\n",
    "\n",
    "```\n",
    "$ pip install numpy\n",
    "$ pip install matplotlib\n",
    "$ pip install pandas\n",
    "$ pip install voila\n",
    "```\n",
    "\n",
    "## 접속법 1\n",
    "\n",
    "터미널에서\n",
    "\n",
    "```\n",
    "$ jupyter notebook\n",
    "```\n",
    "\n",
    "jupyter notebook이 켜지면 아래 사진 모양 클릭\n",
    "\n",
    "<img src=\"https://drive.google.com/uc?id=1sK-6PYqrUodwHHym8717utRZb3PJhj1Z\" width=\"640\" height=\"320\">\n",
    "\n",
    "## 접속법 2\n",
    "\n",
    "터미널에서\n",
    "\n",
    "```\n",
    "$ voila Traffic.ipynb\n",
    "```\n",
    "\n",
    "---"
   ]
  },
  {
   "cell_type": "markdown",
   "metadata": {},
   "source": [
    "**만약 그림에 한글이 안보이는 경우 \"네이버\"의 나눔바른고딕 TTF 설치후 진행**"
   ]
  },
  {
   "cell_type": "code",
   "execution_count": 1,
   "metadata": {},
   "outputs": [],
   "source": [
    "import matplotlib.pyplot as plt\n",
    "import numpy as np\n",
    "import pandas as pd\n",
    "import ipywidgets as widgets\n",
    "from IPython.display import display\n",
    "from mpl_toolkits.axes_grid1 import make_axes_locatable\n",
    "plt.rcParams[\"font.family\"] = 'NanumBarunGothic'\n",
    "\n",
    "df = pd.read_csv(\"alldata_groupby.csv\", encoding=\"euc-kr\")\n",
    "df[\"date\"] = pd.to_datetime(df[\"date\"])\n",
    "df_group = df.copy()\n",
    "df_group = df_group.groupby([pd.Grouper(key=\"date\", freq=\"W-SUN\"), \"sregion\", \"eregion\"]).sum()\n",
    "\n",
    "#  (도착-출발) 차이 칼럼 추가\n",
    "scale_e = [\"e1\", \"e2\", \"e3\", \"e4\", \"e5\", \"e6\"]\n",
    "scale_s = [\"s1\", \"s2\", \"s3\", \"s4\", \"s5\", \"s6\"]\n",
    "for i, (s, e) in enumerate(zip(scale_s, scale_e)):\n",
    "    df_group[f\"diff_{i+1}\"] = df_group[s] - df_group[e]\n",
    "df_group[\"diff_total\"] = df_group[\"stotal\"] - df_group[\"etotal\"]\n",
    "\n",
    "dates = pd.Series(df_group.index.get_level_values(0))\n",
    "dates_tuple = list(zip(*(dates.dt.strftime(\"%m-%d\").unique(), dates.unique())))\n",
    "columns = df_group.columns[df_group.columns.str.match(\"diff\")]\n",
    "regions = list(df.sregion.unique())"
   ]
  },
  {
   "cell_type": "code",
   "execution_count": 2,
   "metadata": {},
   "outputs": [],
   "source": [
    "def create_widget(dates, columns):\n",
    "    style = {'description_width': 'initial'}\n",
    "    date = widgets.Dropdown(options=dates, description='Date:', style=style)\n",
    "    see = widgets.Dropdown(options=columns, description='See:', style=style)\n",
    "    form = widgets.HBox([date, see], \n",
    "                        layout=widgets.Layout(display='inline-flex', flex_flow='row', border='solid 2px', justify_content='space-between'))\n",
    "    interactive_dict = {\"see\": see, \"date\": date}\n",
    "    return form, interactive_dict\n",
    "\n",
    "def draw(date, see):\n",
    "    global df_group\n",
    "    df_p = df_group.unstack(-1).loc[date, see]\n",
    "    \n",
    "    fig, ax = plt.subplots(1, 1, figsize=(12, 10))\n",
    "    im = ax.pcolor(df_p, cmap=\"coolwarm\")\n",
    "    ax.set_xticks(np.arange(0.5, len(df_p.columns), 1))\n",
    "    ax.set_xticklabels(df_p.columns)\n",
    "    ax.set_xlabel(\"출구\", fontsize=14)\n",
    "\n",
    "    ax.set_yticks(np.arange(0.5, len(df_p.index), 1))\n",
    "    ax.set_yticklabels(df_p.index)\n",
    "    ax.set_ylabel(\"입구\", fontsize=14)\n",
    "    ax.set_title(\"Relation\", fontsize=20)\n",
    "    fig.colorbar(im)\n",
    "    plt.show()\n",
    "    \n",
    "def show(dates, columns):\n",
    "    form, interactive_dict = create_widget(dates, columns)\n",
    "    out = widgets.interactive_output(draw, interactive_dict)        \n",
    "    display(form, out)"
   ]
  },
  {
   "cell_type": "markdown",
   "metadata": {},
   "source": [
    "1번시기: 1/1~1/23\n",
    "\n",
    "2번시기: 1/28~2/23 \n",
    "\n",
    "3번시기: 2/24~3/8\n",
    "\n",
    "4번시기: 3/9~4/12\n",
    "\n",
    "# 각 차종별 주간 통행량 유입/유출\n",
    "\n",
    "각 차종별, 지역별로 출발지역 통행량에서 도착 지역 통행량을 차감"
   ]
  },
  {
   "cell_type": "code",
   "execution_count": 3,
   "metadata": {
    "scrolled": false
   },
   "outputs": [
    {
     "data": {
      "application/vnd.jupyter.widget-view+json": {
       "model_id": "37a43f925eb944079d8b3745780a920e",
       "version_major": 2,
       "version_minor": 0
      },
      "text/plain": [
       "HBox(children=(Dropdown(description='Date:', options=(('01-05', numpy.datetime64('2020-01-05T00:00:00.00000000…"
      ]
     },
     "metadata": {},
     "output_type": "display_data"
    },
    {
     "data": {
      "application/vnd.jupyter.widget-view+json": {
       "model_id": "140dd1f8f15946ff94f9d34c60bc379c",
       "version_major": 2,
       "version_minor": 0
      },
      "text/plain": [
       "Output()"
      ]
     },
     "metadata": {},
     "output_type": "display_data"
    }
   ],
   "source": [
    "show(dates_tuple, columns)"
   ]
  }
 ],
 "metadata": {
  "kernelspec": {
   "display_name": "Python 3",
   "language": "python",
   "name": "python3"
  },
  "language_info": {
   "codemirror_mode": {
    "name": "ipython",
    "version": 3
   },
   "file_extension": ".py",
   "mimetype": "text/x-python",
   "name": "python",
   "nbconvert_exporter": "python",
   "pygments_lexer": "ipython3",
   "version": "3.7.6"
  }
 },
 "nbformat": 4,
 "nbformat_minor": 4
}
