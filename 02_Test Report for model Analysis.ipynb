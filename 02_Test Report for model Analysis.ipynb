{
 "cells": [
  {
   "cell_type": "code",
   "execution_count": 13,
   "metadata": {},
   "outputs": [],
   "source": [
    "import pandas as pd\n",
    "from itertools import product\n",
    "import ipywidgets as widgets\n",
    "from IPython.display import display\n",
    "import matplotlib.pyplot as plt\n",
    "import numpy as np\n",
    "\n",
    "def create_sub_widget(pdict, style):\n",
    "    ws = []\n",
    "    for k in pdict.keys():\n",
    "        w = widgets.Dropdown(options=pdict[k], description=k, style=style, \n",
    "                             layout=widgets.Layout(flex='1 3 auto', width='auto'))\n",
    "        cbox = widgets.Checkbox(value=False, disabled=False, indent=False, \n",
    "                             layout=widgets.Layout(flex='1 1 auto', width='auto'))\n",
    "        l = widgets.link((cbox, 'value'), (w, 'disabled'))\n",
    "        ws.append(widgets.HBox([cbox, w], \n",
    "                               layout=widgets.Layout(display='inline-flex', flex_flow='row')))\n",
    "    return ws\n",
    "    \n",
    "def create_widget(pdict):\n",
    "    style = {'description_width': 'initial'}\n",
    "    ws = create_sub_widget(pdict, style)\n",
    "    form = widgets.Box(ws, \n",
    "                layout=widgets.Layout(display='inline-flex', flex_flow='column', border='solid 2px', \n",
    "                                      justify_content='space-between'))\n",
    "    \n",
    "    interactive_dict = dict()\n",
    "    for box, key in zip(ws, pdict.keys()):\n",
    "        cb, dd = box.children\n",
    "        interactive_dict[f\"cb_{key}\"] = cb\n",
    "        interactive_dict[f\"{key}\"] = dd\n",
    "    return form, interactive_dict\n",
    "\n",
    "def check_avaliable(bool_list):\n",
    "    return sum(bool_list) == 1\n",
    "\n",
    "def draw(**interactive_dict):\n",
    "    global df\n",
    "    \n",
    "    cboxes, wgs = [], []\n",
    "    for x in interactive_dict.items():\n",
    "        if \"cb\" in x[0]:\n",
    "            cboxes.append(x)\n",
    "        else:\n",
    "            wgs.append(x)\n",
    "    cboxes, wgs = list(map(dict, [cboxes, wgs]))\n",
    "\n",
    "    fig, ax = plt.subplots(1, 1, figsize=(10, 6))\n",
    "    if check_avaliable(cboxes.values()):\n",
    "        trg_col = next(x[0].replace(\"cb_\", \"\") for x in cboxes.items() if x[1] == True)\n",
    "        not_trg_dict = dict([x for x in wgs.items() if x[0] != trg_col])\n",
    "        df_p = df.loc[df[not_trg_dict.keys()].isin(not_trg_dict.values()).all(axis=1), :].copy()\n",
    "        n = np.arange(len(df_p[trg_col]))\n",
    "        ax.bar(n, df_p[\"test_accuracy(best)\"])\n",
    "        for i, v in enumerate(df_p[\"test_accuracy(best)\"]):\n",
    "            ax.text(i-0.08, v+1, f\"{v:.2f} %\", fontsize=10, color=\"black\")\n",
    "        if trg_col == \"model\":\n",
    "            title = f\"Test Accuracy of model comparison\"\n",
    "            xticklabels = df_p[trg_col] + \"\\n(params: \"+ df_p[\"parameter_size\"].astype(\"str\") + \")\"\n",
    "        else:\n",
    "            title = f\"Test Accuracy of model: {wgs['model']} (params: {df_p['parameter_size'].unique()[0]}) comparison\"\n",
    "            xticklabels = df_p[trg_col]\n",
    "        ax.set_xticks(n)\n",
    "        ax.set_xticklabels(xticklabels, fontsize=10)\n",
    "        ax.set_xlabel(f\"{trg_col}\", fontsize=12)\n",
    "        ax.set_ylabel(\"test_accuracy(best)\", fontsize=12)\n",
    "        ax.set_title(title, fontsize=14)\n",
    "        plt.show()\n",
    "    else:\n",
    "        ax.text(0.15, 0.5, \"not avaliable, check only one of the box to fix variable\", fontsize=16)\n",
    "        plt.show()\n",
    "    \n",
    "def show(pdict):\n",
    "    form, interactive_dict = create_widget(pdict)\n",
    "    out = widgets.interactive_output(draw, interactive_dict)        \n",
    "    display(form, out)\n",
    "    \n",
    "df = pd.read_csv(\"https://raw.githubusercontent.com/simonjisu/voila-example/master/result.csv\",\n",
    "                 encoding=\"utf-8\")\n",
    "\n",
    "exp_models = [\"linear\", \"nn\", \"cnn\"]\n",
    "exp_batchsizes = [32, 128, 256]\n",
    "exp_epochs = [5, 10, 15]\n",
    "exp_learningrates = [0.1, 0.01, 0.001]\n",
    "exp_optimizers = [\"GradientDescent\", \"Adam\"]\n",
    "\n",
    "pdict = {\n",
    "    \"model\": exp_models, \n",
    "    \"batch_size\": exp_batchsizes, \n",
    "    \"epochs\": exp_epochs, \n",
    "    \"learning_rate\": exp_learningrates, \n",
    "    \"optimizer\": exp_optimizers\n",
    "}"
   ]
  },
  {
   "cell_type": "markdown",
   "metadata": {},
   "source": [
    "# Test Report for model Analysis\n",
    "\n",
    "[![Open In Colab](https://colab.research.google.com/assets/colab-badge.svg)](https://colab.research.google.com/github/simonjisu/voila-example/blob/master/02_Test%20Report%20for%20model%20Analysis.ipynb)\n",
    "\n",
    "* 3 types of model: \n",
    "    1. simple linear layer + softmax\n",
    "    2. 2 layer fully-connected neural network(# of hiddens: 1024, 512)\n",
    "    3. 3 layer convolutional neural network\n",
    "    \n",
    "You can fix one of parameters to see comparison by checking parameter box \n",
    "\n",
    "For example, if you want to see what is difference between models, \n",
    "\n",
    "- [x] model\n",
    "- [ ] batch_size\n",
    "- [ ] epochs\n",
    "- [ ] learning_rate\n",
    "- [ ] optimizer"
   ]
  },
  {
   "cell_type": "code",
   "execution_count": 14,
   "metadata": {
    "scrolled": false
   },
   "outputs": [
    {
     "data": {
      "application/vnd.jupyter.widget-view+json": {
       "model_id": "a250fe6c87a341a4a9cddd9051ce2732",
       "version_major": 2,
       "version_minor": 0
      },
      "text/plain": [
       "Box(children=(HBox(children=(Checkbox(value=False, indent=False, layout=Layout(flex='1 1 auto', width='auto'))…"
      ]
     },
     "metadata": {},
     "output_type": "display_data"
    },
    {
     "data": {
      "application/vnd.jupyter.widget-view+json": {
       "model_id": "a9af1087da2144289021d3c69b4caf1a",
       "version_major": 2,
       "version_minor": 0
      },
      "text/plain": [
       "Output()"
      ]
     },
     "metadata": {},
     "output_type": "display_data"
    }
   ],
   "source": [
    "show(pdict)"
   ]
  },
  {
   "cell_type": "code",
   "execution_count": null,
   "metadata": {},
   "outputs": [],
   "source": []
  }
 ],
 "metadata": {
  "kernelspec": {
   "display_name": "Python 3",
   "language": "python",
   "name": "python3"
  },
  "language_info": {
   "codemirror_mode": {
    "name": "ipython",
    "version": 3
   },
   "file_extension": ".py",
   "mimetype": "text/x-python",
   "name": "python",
   "nbconvert_exporter": "python",
   "pygments_lexer": "ipython3",
   "version": "3.7.6"
  }
 },
 "nbformat": 4,
 "nbformat_minor": 4
}
