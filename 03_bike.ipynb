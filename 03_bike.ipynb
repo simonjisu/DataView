{
 "cells": [
  {
   "cell_type": "code",
   "execution_count": 1,
   "metadata": {},
   "outputs": [],
   "source": [
    "from pathlib import Path\n",
    "import pandas as pd"
   ]
  },
  {
   "cell_type": "code",
   "execution_count": 11,
   "metadata": {},
   "outputs": [],
   "source": [
    "p_data = Path(\"/mnt/d/Datas/bycicle/\")"
   ]
  },
  {
   "cell_type": "code",
   "execution_count": 16,
   "metadata": {},
   "outputs": [],
   "source": [
    "df = pd.read_csv(p_data / \"bike18121905_1.csv\", encoding=\"cp949\")"
   ]
  },
  {
   "cell_type": "code",
   "execution_count": 20,
   "metadata": {},
   "outputs": [
    {
     "data": {
      "text/plain": [
       "Index(['대여일자', '대여시간', '대여소번호', '대여소명', '대여구분코드', '성별', '연령대코드', '이용건수', '운동량',\n",
       "       '탄소량', '이동거리', '사용시간'],\n",
       "      dtype='object')"
      ]
     },
     "execution_count": 20,
     "metadata": {},
     "output_type": "execute_result"
    }
   ],
   "source": [
    "df.columns"
   ]
  },
  {
   "cell_type": "code",
   "execution_count": 23,
   "metadata": {},
   "outputs": [
    {
     "data": {
      "text/html": [
       "<div>\n",
       "<style scoped>\n",
       "    .dataframe tbody tr th:only-of-type {\n",
       "        vertical-align: middle;\n",
       "    }\n",
       "\n",
       "    .dataframe tbody tr th {\n",
       "        vertical-align: top;\n",
       "    }\n",
       "\n",
       "    .dataframe thead th {\n",
       "        text-align: right;\n",
       "    }\n",
       "</style>\n",
       "<table border=\"1\" class=\"dataframe\">\n",
       "  <thead>\n",
       "    <tr style=\"text-align: right;\">\n",
       "      <th></th>\n",
       "      <th>0</th>\n",
       "      <th>1</th>\n",
       "      <th>2</th>\n",
       "      <th>3</th>\n",
       "      <th>4</th>\n",
       "    </tr>\n",
       "  </thead>\n",
       "  <tbody>\n",
       "    <tr>\n",
       "      <th>대여일자</th>\n",
       "      <td>2018-12-01</td>\n",
       "      <td>2018-12-01</td>\n",
       "      <td>2018-12-01</td>\n",
       "      <td>2018-12-01</td>\n",
       "      <td>2018-12-01</td>\n",
       "    </tr>\n",
       "    <tr>\n",
       "      <th>대여시간</th>\n",
       "      <td>0</td>\n",
       "      <td>0</td>\n",
       "      <td>0</td>\n",
       "      <td>0</td>\n",
       "      <td>0</td>\n",
       "    </tr>\n",
       "    <tr>\n",
       "      <th>대여소번호</th>\n",
       "      <td>1721</td>\n",
       "      <td>3511</td>\n",
       "      <td>1975</td>\n",
       "      <td>110</td>\n",
       "      <td>749</td>\n",
       "    </tr>\n",
       "    <tr>\n",
       "      <th>대여소명</th>\n",
       "      <td>1721. 창동역 2번출구</td>\n",
       "      <td>3511. 응봉역 1번출구</td>\n",
       "      <td>1975. 대림역 1번 출입구 밑</td>\n",
       "      <td>110. 사천교</td>\n",
       "      <td>749. 이대 목동병원 앞</td>\n",
       "    </tr>\n",
       "    <tr>\n",
       "      <th>대여구분코드</th>\n",
       "      <td>정기권</td>\n",
       "      <td>정기권</td>\n",
       "      <td>정기권</td>\n",
       "      <td>정기권</td>\n",
       "      <td>정기권</td>\n",
       "    </tr>\n",
       "    <tr>\n",
       "      <th>성별</th>\n",
       "      <td>\\N</td>\n",
       "      <td>\\N</td>\n",
       "      <td>\\N</td>\n",
       "      <td>\\N</td>\n",
       "      <td>\\N</td>\n",
       "    </tr>\n",
       "    <tr>\n",
       "      <th>연령대코드</th>\n",
       "      <td>~10대</td>\n",
       "      <td>~10대</td>\n",
       "      <td>~10대</td>\n",
       "      <td>~10대</td>\n",
       "      <td>~10대</td>\n",
       "    </tr>\n",
       "    <tr>\n",
       "      <th>이용건수</th>\n",
       "      <td>1</td>\n",
       "      <td>1</td>\n",
       "      <td>1</td>\n",
       "      <td>1</td>\n",
       "      <td>1</td>\n",
       "    </tr>\n",
       "    <tr>\n",
       "      <th>운동량</th>\n",
       "      <td>25.95</td>\n",
       "      <td>52.59</td>\n",
       "      <td>136.26</td>\n",
       "      <td>17.76</td>\n",
       "      <td>95.67</td>\n",
       "    </tr>\n",
       "    <tr>\n",
       "      <th>탄소량</th>\n",
       "      <td>0.26</td>\n",
       "      <td>0.39</td>\n",
       "      <td>1.17</td>\n",
       "      <td>0.16</td>\n",
       "      <td>0.7</td>\n",
       "    </tr>\n",
       "    <tr>\n",
       "      <th>이동거리</th>\n",
       "      <td>1130</td>\n",
       "      <td>1660</td>\n",
       "      <td>5060</td>\n",
       "      <td>690</td>\n",
       "      <td>3020</td>\n",
       "    </tr>\n",
       "    <tr>\n",
       "      <th>사용시간</th>\n",
       "      <td>4</td>\n",
       "      <td>72</td>\n",
       "      <td>21</td>\n",
       "      <td>2</td>\n",
       "      <td>15</td>\n",
       "    </tr>\n",
       "  </tbody>\n",
       "</table>\n",
       "</div>"
      ],
      "text/plain": [
       "                      0               1                   2           3  \\\n",
       "대여일자         2018-12-01      2018-12-01          2018-12-01  2018-12-01   \n",
       "대여시간                  0               0                   0           0   \n",
       "대여소번호              1721            3511                1975         110   \n",
       "대여소명    1721. 창동역 2번출구   3511. 응봉역 1번출구  1975. 대림역 1번 출입구 밑    110. 사천교   \n",
       "대여구분코드              정기권             정기권                 정기권         정기권   \n",
       "성별                   \\N              \\N                  \\N          \\N   \n",
       "연령대코드              ~10대            ~10대                ~10대        ~10대   \n",
       "이용건수                  1               1                   1           1   \n",
       "운동량               25.95           52.59              136.26       17.76   \n",
       "탄소량                0.26            0.39                1.17        0.16   \n",
       "이동거리               1130            1660                5060         690   \n",
       "사용시간                  4              72                  21           2   \n",
       "\n",
       "                     4  \n",
       "대여일자        2018-12-01  \n",
       "대여시간                 0  \n",
       "대여소번호              749  \n",
       "대여소명    749. 이대 목동병원 앞  \n",
       "대여구분코드             정기권  \n",
       "성별                  \\N  \n",
       "연령대코드             ~10대  \n",
       "이용건수                 1  \n",
       "운동량              95.67  \n",
       "탄소량                0.7  \n",
       "이동거리              3020  \n",
       "사용시간                15  "
      ]
     },
     "execution_count": 23,
     "metadata": {},
     "output_type": "execute_result"
    }
   ],
   "source": [
    "df.head().T"
   ]
  },
  {
   "cell_type": "code",
   "execution_count": null,
   "metadata": {},
   "outputs": [],
   "source": [
    "cols = {\n",
    "    '대여일자': 'date', \n",
    "    '대여시간': 'hour', \n",
    "    '대여소번호': 'officenum', \n",
    "    '대여소명': 'office', \n",
    "    '대여구분코드': 'code', \n",
    "    '성별': 'sex', \n",
    "    '연령대코드': 'age', \n",
    "    '이용건수': 'usecount', \n",
    "    '운동량': 'excercise', \n",
    "    '탄소량': '', \n",
    "    '이동거리': 'distance', \n",
    "    '사용시간': 'usedhour'\n",
    "}\n",
    "    \n",
    "]\n"
   ]
  },
  {
   "cell_type": "code",
   "execution_count": null,
   "metadata": {},
   "outputs": [],
   "source": []
  }
 ],
 "metadata": {
  "kernelspec": {
   "display_name": "Python 3",
   "language": "python",
   "name": "python3"
  },
  "language_info": {
   "codemirror_mode": {
    "name": "ipython",
    "version": 3
   },
   "file_extension": ".py",
   "mimetype": "text/x-python",
   "name": "python",
   "nbconvert_exporter": "python",
   "pygments_lexer": "ipython3",
   "version": "3.7.7"
  }
 },
 "nbformat": 4,
 "nbformat_minor": 4
}
